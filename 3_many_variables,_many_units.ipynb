{
  "nbformat": 4,
  "nbformat_minor": 0,
  "metadata": {
    "colab": {
      "name": "3. many variables, many units.ipynb",
      "provenance": [],
      "collapsed_sections": []
    },
    "kernelspec": {
      "name": "python3",
      "display_name": "Python 3"
    },
    "language_info": {
      "name": "python"
    }
  },
  "cells": [
    {
      "cell_type": "code",
      "metadata": {
        "id": "ZnSXmNq1Lp9O"
      },
      "source": [
        ""
      ],
      "execution_count": null,
      "outputs": []
    },
    {
      "cell_type": "markdown",
      "metadata": {
        "id": "4ZsinSLMLrUb"
      },
      "source": [
        "multiple territorial units, multiple variables\n",
        "\n",
        "Subject:\n",
        "\n",
        "https://bdl.stat.gov.pl/api/v1/variables?subject-id=P3155&page-size=100\n",
        "\n",
        "Przeciętne ceny skupu owoców i warzyw (dane półroczne)\n",
        "\n",
        "Average procurement prices of fruits and vegetables (half-yearly data)"
      ]
    },
    {
      "cell_type": "code",
      "metadata": {
        "id": "zkhzglN5L3DL"
      },
      "source": [
        "import pandas as pd\n",
        "import requests"
      ],
      "execution_count": null,
      "outputs": []
    },
    {
      "cell_type": "code",
      "metadata": {
        "colab": {
          "base_uri": "https://localhost:8080/"
        },
        "id": "R1HEqZakL_pK",
        "outputId": "102dc4a1-f19f-4dab-f517-6b64bc2b54c1"
      },
      "source": [
        "first_page = requests.get('https://bdl.stat.gov.pl/api/v1/variables?subject-id=P3155&page-size=100', timeout=7)\n",
        "first_page = first_page.json()\n",
        "first_page['results'][0]"
      ],
      "execution_count": null,
      "outputs": [
        {
          "output_type": "execute_result",
          "data": {
            "text/plain": [
              "{'id': 283913,\n",
              " 'level': 3,\n",
              " 'measureUnitId': 4,\n",
              " 'measureUnitName': 'zł',\n",
              " 'n1': 'I półrocze',\n",
              " 'n2': 'kapusta za 1 kg',\n",
              " 'subjectId': 'P3155'}"
            ]
          },
          "metadata": {
            "tags": []
          },
          "execution_count": 2
        }
      ]
    },
    {
      "cell_type": "code",
      "metadata": {
        "colab": {
          "base_uri": "https://localhost:8080/"
        },
        "id": "1LwxWX2VMCkh",
        "outputId": "ff133da8-7f2e-4b27-f559-f17c7a2c95cd"
      },
      "source": [
        "last_link=first_page['links']['last']\n",
        "last_page_num=int(last_link[last_link.find(\"page=\")+5:] )\n",
        "last_page_num"
      ],
      "execution_count": null,
      "outputs": [
        {
          "output_type": "execute_result",
          "data": {
            "text/plain": [
              "0"
            ]
          },
          "metadata": {
            "tags": []
          },
          "execution_count": 3
        }
      ]
    },
    {
      "cell_type": "code",
      "metadata": {
        "id": "wi-HhGO3MDuY"
      },
      "source": [
        "# only one page\n",
        "# 60 records"
      ],
      "execution_count": null,
      "outputs": []
    },
    {
      "cell_type": "code",
      "metadata": {
        "id": "YJteDQXbMFOd"
      },
      "source": [
        "\"\"\"\n",
        "var_list=[]\n",
        "for result in first_page['results']:\n",
        "    if result['n1']=='rok':\n",
        "        var_list.append(result)\n",
        "\"\"\"\n",
        "var_list=[result for result in first_page['results'] if result['n1']=='rok']"
      ],
      "execution_count": null,
      "outputs": []
    },
    {
      "cell_type": "code",
      "metadata": {
        "colab": {
          "base_uri": "https://localhost:8080/"
        },
        "id": "_M79ke2iMGtA",
        "outputId": "62de0515-89d0-456c-ea42-82a4bcd37fb6"
      },
      "source": [
        "var_list[1]"
      ],
      "execution_count": null,
      "outputs": [
        {
          "output_type": "execute_result",
          "data": {
            "text/plain": [
              "{'id': 283912,\n",
              " 'level': 3,\n",
              " 'measureUnitId': 4,\n",
              " 'measureUnitName': 'zł',\n",
              " 'n1': 'rok',\n",
              " 'n2': 'cebula za 1 kg',\n",
              " 'subjectId': 'P3155'}"
            ]
          },
          "metadata": {
            "tags": []
          },
          "execution_count": 5
        }
      ]
    },
    {
      "cell_type": "code",
      "metadata": {
        "colab": {
          "base_uri": "https://localhost:8080/"
        },
        "id": "uBM2JV-mMIFZ",
        "outputId": "9865e3f6-31bd-4490-f151-f29827cd3085"
      },
      "source": [
        "len(var_list)"
      ],
      "execution_count": null,
      "outputs": [
        {
          "output_type": "execute_result",
          "data": {
            "text/plain": [
              "20"
            ]
          },
          "metadata": {
            "tags": []
          },
          "execution_count": 6
        }
      ]
    },
    {
      "cell_type": "code",
      "metadata": {
        "id": "78vq-cxMMI8I"
      },
      "source": [
        "data_dict={}\n",
        "unit_level=2 # województwa\n",
        "for x in var_list:\n",
        "    var_id=x['id']\n",
        "    var_name=x['n2']\n",
        "    url=f'https://bdl.stat.gov.pl/api/v1/data/by-variable/{var_id}?page-size=100&unit-level={unit_level}&'\n",
        "    for year in range(2011,2020+1):\n",
        "        url+=f'year={year}&'\n",
        "    try:\n",
        "        page = requests.get(url, timeout=7)\n",
        "    except:\n",
        "        print(\"request error,\",x)\n",
        "        break\n",
        "    page = page.json()\n",
        "    data_list = [(result['name'], v['year'], v['val'])  for result in page['results'] for v in result['values']]\n",
        "    data_dict[var_name]=data_list\n"
      ],
      "execution_count": null,
      "outputs": []
    },
    {
      "cell_type": "code",
      "metadata": {
        "colab": {
          "base_uri": "https://localhost:8080/"
        },
        "id": "s3FkPBw4MKbo",
        "outputId": "25b6a156-cd58-4695-e815-910412ed5cc2"
      },
      "source": [
        "# view the variables\n",
        "data_dict.keys()"
      ],
      "execution_count": null,
      "outputs": [
        {
          "output_type": "execute_result",
          "data": {
            "text/plain": [
              "dict_keys(['kapusta za 1 kg', 'cebula za 1 kg', 'marchew za 1 kg', 'buraki za 1 kg', 'ogórki za 1 kg', 'pomidory za 1 kg', 'kalafiory za 1 szt', 'inne warzywa za 1 kg', 'jabłka za 1 kg', 'gruszki za 1 kg', 'śliwki za 1 kg', 'brzoskwinie za 1 kg', 'wiśnie za 1 kg', 'czereśnie za 1 kg', 'truskawki za 1 kg', 'maliny za 1 kg', 'porzeczki za 1 kg', 'agrest za 1 kg', 'orzechy włoskie i laskowe za 1 kg', 'inne owoce za 1 kg'])"
            ]
          },
          "metadata": {
            "tags": []
          },
          "execution_count": 8
        }
      ]
    },
    {
      "cell_type": "code",
      "metadata": {
        "colab": {
          "base_uri": "https://localhost:8080/"
        },
        "id": "t1pSXGt3MTCZ",
        "outputId": "5a681adf-6a84-4fef-f29d-ad66841f877d"
      },
      "source": [
        "# example values for one variable\n",
        "data_dict['kapusta za 1 kg'][:3]"
      ],
      "execution_count": null,
      "outputs": [
        {
          "output_type": "execute_result",
          "data": {
            "text/plain": [
              "[('MAŁOPOLSKIE', '2012', 0.57),\n",
              " ('MAŁOPOLSKIE', '2013', 0.72),\n",
              " ('MAŁOPOLSKIE', '2014', 0.59)]"
            ]
          },
          "metadata": {
            "tags": []
          },
          "execution_count": 10
        }
      ]
    },
    {
      "cell_type": "code",
      "metadata": {
        "id": "TTjSWcmjMWcS"
      },
      "source": [
        ""
      ],
      "execution_count": null,
      "outputs": []
    },
    {
      "cell_type": "code",
      "metadata": {
        "colab": {
          "base_uri": "https://localhost:8080/",
          "height": 424
        },
        "id": "vdGx63M6MjLq",
        "outputId": "5208312e-711b-4340-af83-fe34c64b583b"
      },
      "source": [
        "# example dataframe (and a template for dataframe with all variables)\n",
        "df=pd.DataFrame(data_dict['kapusta za 1 kg'], columns=['województwo', 'rok', 'kapusta za 1 kg'])\n",
        "df"
      ],
      "execution_count": null,
      "outputs": [
        {
          "output_type": "execute_result",
          "data": {
            "text/html": [
              "<div>\n",
              "<style scoped>\n",
              "    .dataframe tbody tr th:only-of-type {\n",
              "        vertical-align: middle;\n",
              "    }\n",
              "\n",
              "    .dataframe tbody tr th {\n",
              "        vertical-align: top;\n",
              "    }\n",
              "\n",
              "    .dataframe thead th {\n",
              "        text-align: right;\n",
              "    }\n",
              "</style>\n",
              "<table border=\"1\" class=\"dataframe\">\n",
              "  <thead>\n",
              "    <tr style=\"text-align: right;\">\n",
              "      <th></th>\n",
              "      <th>województwo</th>\n",
              "      <th>rok</th>\n",
              "      <th>kapusta za 1 kg</th>\n",
              "    </tr>\n",
              "  </thead>\n",
              "  <tbody>\n",
              "    <tr>\n",
              "      <th>0</th>\n",
              "      <td>MAŁOPOLSKIE</td>\n",
              "      <td>2012</td>\n",
              "      <td>0.57</td>\n",
              "    </tr>\n",
              "    <tr>\n",
              "      <th>1</th>\n",
              "      <td>MAŁOPOLSKIE</td>\n",
              "      <td>2013</td>\n",
              "      <td>0.72</td>\n",
              "    </tr>\n",
              "    <tr>\n",
              "      <th>2</th>\n",
              "      <td>MAŁOPOLSKIE</td>\n",
              "      <td>2014</td>\n",
              "      <td>0.59</td>\n",
              "    </tr>\n",
              "    <tr>\n",
              "      <th>3</th>\n",
              "      <td>MAŁOPOLSKIE</td>\n",
              "      <td>2015</td>\n",
              "      <td>0.86</td>\n",
              "    </tr>\n",
              "    <tr>\n",
              "      <th>4</th>\n",
              "      <td>MAŁOPOLSKIE</td>\n",
              "      <td>2016</td>\n",
              "      <td>0.76</td>\n",
              "    </tr>\n",
              "    <tr>\n",
              "      <th>...</th>\n",
              "      <td>...</td>\n",
              "      <td>...</td>\n",
              "      <td>...</td>\n",
              "    </tr>\n",
              "    <tr>\n",
              "      <th>123</th>\n",
              "      <td>MAZOWIECKIE</td>\n",
              "      <td>2015</td>\n",
              "      <td>1.03</td>\n",
              "    </tr>\n",
              "    <tr>\n",
              "      <th>124</th>\n",
              "      <td>MAZOWIECKIE</td>\n",
              "      <td>2016</td>\n",
              "      <td>1.17</td>\n",
              "    </tr>\n",
              "    <tr>\n",
              "      <th>125</th>\n",
              "      <td>MAZOWIECKIE</td>\n",
              "      <td>2017</td>\n",
              "      <td>0.86</td>\n",
              "    </tr>\n",
              "    <tr>\n",
              "      <th>126</th>\n",
              "      <td>MAZOWIECKIE</td>\n",
              "      <td>2018</td>\n",
              "      <td>0.94</td>\n",
              "    </tr>\n",
              "    <tr>\n",
              "      <th>127</th>\n",
              "      <td>MAZOWIECKIE</td>\n",
              "      <td>2019</td>\n",
              "      <td>1.44</td>\n",
              "    </tr>\n",
              "  </tbody>\n",
              "</table>\n",
              "<p>128 rows × 3 columns</p>\n",
              "</div>"
            ],
            "text/plain": [
              "     województwo   rok  kapusta za 1 kg\n",
              "0    MAŁOPOLSKIE  2012             0.57\n",
              "1    MAŁOPOLSKIE  2013             0.72\n",
              "2    MAŁOPOLSKIE  2014             0.59\n",
              "3    MAŁOPOLSKIE  2015             0.86\n",
              "4    MAŁOPOLSKIE  2016             0.76\n",
              "..           ...   ...              ...\n",
              "123  MAZOWIECKIE  2015             1.03\n",
              "124  MAZOWIECKIE  2016             1.17\n",
              "125  MAZOWIECKIE  2017             0.86\n",
              "126  MAZOWIECKIE  2018             0.94\n",
              "127  MAZOWIECKIE  2019             1.44\n",
              "\n",
              "[128 rows x 3 columns]"
            ]
          },
          "metadata": {
            "tags": []
          },
          "execution_count": 19
        }
      ]
    },
    {
      "cell_type": "code",
      "metadata": {
        "id": "AymhacI_Mnjq"
      },
      "source": [
        "# joining remaining variables\n",
        "\n",
        "for var_name in data_dict:\n",
        "    if var_name==\"kapusta za 1 kg\":\n",
        "        continue\n",
        "    temp_df=pd.DataFrame(data_dict[var_name], columns=['województwo', 'rok', var_name])\n",
        "    df=pd.merge(df, temp_df, how='left', on=['województwo','rok'])"
      ],
      "execution_count": null,
      "outputs": []
    },
    {
      "cell_type": "code",
      "metadata": {
        "colab": {
          "base_uri": "https://localhost:8080/",
          "height": 476
        },
        "id": "NsGcK4cIM4zU",
        "outputId": "2d98e728-9c9a-4c51-f418-53fdd37b0a5b"
      },
      "source": [
        "# whole dataset\n",
        "df"
      ],
      "execution_count": null,
      "outputs": [
        {
          "output_type": "execute_result",
          "data": {
            "text/html": [
              "<div>\n",
              "<style scoped>\n",
              "    .dataframe tbody tr th:only-of-type {\n",
              "        vertical-align: middle;\n",
              "    }\n",
              "\n",
              "    .dataframe tbody tr th {\n",
              "        vertical-align: top;\n",
              "    }\n",
              "\n",
              "    .dataframe thead th {\n",
              "        text-align: right;\n",
              "    }\n",
              "</style>\n",
              "<table border=\"1\" class=\"dataframe\">\n",
              "  <thead>\n",
              "    <tr style=\"text-align: right;\">\n",
              "      <th></th>\n",
              "      <th>województwo</th>\n",
              "      <th>rok</th>\n",
              "      <th>kapusta za 1 kg</th>\n",
              "      <th>cebula za 1 kg</th>\n",
              "      <th>marchew za 1 kg</th>\n",
              "      <th>buraki za 1 kg</th>\n",
              "      <th>ogórki za 1 kg</th>\n",
              "      <th>pomidory za 1 kg</th>\n",
              "      <th>kalafiory za 1 szt</th>\n",
              "      <th>inne warzywa za 1 kg</th>\n",
              "      <th>jabłka za 1 kg</th>\n",
              "      <th>gruszki za 1 kg</th>\n",
              "      <th>śliwki za 1 kg</th>\n",
              "      <th>brzoskwinie za 1 kg</th>\n",
              "      <th>wiśnie za 1 kg</th>\n",
              "      <th>czereśnie za 1 kg</th>\n",
              "      <th>truskawki za 1 kg</th>\n",
              "      <th>maliny za 1 kg</th>\n",
              "      <th>porzeczki za 1 kg</th>\n",
              "      <th>agrest za 1 kg</th>\n",
              "      <th>orzechy włoskie i laskowe za 1 kg</th>\n",
              "      <th>inne owoce za 1 kg</th>\n",
              "    </tr>\n",
              "  </thead>\n",
              "  <tbody>\n",
              "    <tr>\n",
              "      <th>0</th>\n",
              "      <td>MAŁOPOLSKIE</td>\n",
              "      <td>2012</td>\n",
              "      <td>0.57</td>\n",
              "      <td>0.55</td>\n",
              "      <td>0.76</td>\n",
              "      <td>0.45</td>\n",
              "      <td>2.23</td>\n",
              "      <td>3.38</td>\n",
              "      <td>0.93</td>\n",
              "      <td>1.67</td>\n",
              "      <td>0.70</td>\n",
              "      <td>1.92</td>\n",
              "      <td>1.64</td>\n",
              "      <td>2.70</td>\n",
              "      <td>2.82</td>\n",
              "      <td>4.81</td>\n",
              "      <td>4.70</td>\n",
              "      <td>2.94</td>\n",
              "      <td>1.69</td>\n",
              "      <td>3.43</td>\n",
              "      <td>18.29</td>\n",
              "      <td>1.77</td>\n",
              "    </tr>\n",
              "    <tr>\n",
              "      <th>1</th>\n",
              "      <td>MAŁOPOLSKIE</td>\n",
              "      <td>2013</td>\n",
              "      <td>0.72</td>\n",
              "      <td>0.60</td>\n",
              "      <td>0.78</td>\n",
              "      <td>0.64</td>\n",
              "      <td>2.05</td>\n",
              "      <td>2.39</td>\n",
              "      <td>0.96</td>\n",
              "      <td>1.64</td>\n",
              "      <td>0.99</td>\n",
              "      <td>1.42</td>\n",
              "      <td>1.02</td>\n",
              "      <td>2.15</td>\n",
              "      <td>2.10</td>\n",
              "      <td>4.80</td>\n",
              "      <td>1.80</td>\n",
              "      <td>5.28</td>\n",
              "      <td>1.61</td>\n",
              "      <td>3.29</td>\n",
              "      <td>14.18</td>\n",
              "      <td>6.10</td>\n",
              "    </tr>\n",
              "    <tr>\n",
              "      <th>2</th>\n",
              "      <td>MAŁOPOLSKIE</td>\n",
              "      <td>2014</td>\n",
              "      <td>0.59</td>\n",
              "      <td>0.70</td>\n",
              "      <td>0.60</td>\n",
              "      <td>0.54</td>\n",
              "      <td>1.85</td>\n",
              "      <td>2.79</td>\n",
              "      <td>1.03</td>\n",
              "      <td>1.70</td>\n",
              "      <td>0.50</td>\n",
              "      <td>1.33</td>\n",
              "      <td>0.91</td>\n",
              "      <td>1.91</td>\n",
              "      <td>1.31</td>\n",
              "      <td>4.38</td>\n",
              "      <td>2.71</td>\n",
              "      <td>4.69</td>\n",
              "      <td>1.28</td>\n",
              "      <td>2.87</td>\n",
              "      <td>15.13</td>\n",
              "      <td>2.03</td>\n",
              "    </tr>\n",
              "    <tr>\n",
              "      <th>3</th>\n",
              "      <td>MAŁOPOLSKIE</td>\n",
              "      <td>2015</td>\n",
              "      <td>0.86</td>\n",
              "      <td>0.85</td>\n",
              "      <td>0.97</td>\n",
              "      <td>0.61</td>\n",
              "      <td>2.25</td>\n",
              "      <td>2.71</td>\n",
              "      <td>1.10</td>\n",
              "      <td>2.03</td>\n",
              "      <td>0.74</td>\n",
              "      <td>1.78</td>\n",
              "      <td>1.45</td>\n",
              "      <td>1.31</td>\n",
              "      <td>2.39</td>\n",
              "      <td>5.52</td>\n",
              "      <td>2.00</td>\n",
              "      <td>8.62</td>\n",
              "      <td>1.26</td>\n",
              "      <td>1.70</td>\n",
              "      <td>28.43</td>\n",
              "      <td>4.21</td>\n",
              "    </tr>\n",
              "    <tr>\n",
              "      <th>4</th>\n",
              "      <td>MAŁOPOLSKIE</td>\n",
              "      <td>2016</td>\n",
              "      <td>0.76</td>\n",
              "      <td>0.78</td>\n",
              "      <td>0.77</td>\n",
              "      <td>0.55</td>\n",
              "      <td>1.88</td>\n",
              "      <td>2.99</td>\n",
              "      <td>1.10</td>\n",
              "      <td>1.92</td>\n",
              "      <td>0.58</td>\n",
              "      <td>1.73</td>\n",
              "      <td>1.25</td>\n",
              "      <td>2.33</td>\n",
              "      <td>1.20</td>\n",
              "      <td>6.71</td>\n",
              "      <td>2.97</td>\n",
              "      <td>3.94</td>\n",
              "      <td>1.49</td>\n",
              "      <td>1.11</td>\n",
              "      <td>15.13</td>\n",
              "      <td>4.03</td>\n",
              "    </tr>\n",
              "    <tr>\n",
              "      <th>...</th>\n",
              "      <td>...</td>\n",
              "      <td>...</td>\n",
              "      <td>...</td>\n",
              "      <td>...</td>\n",
              "      <td>...</td>\n",
              "      <td>...</td>\n",
              "      <td>...</td>\n",
              "      <td>...</td>\n",
              "      <td>...</td>\n",
              "      <td>...</td>\n",
              "      <td>...</td>\n",
              "      <td>...</td>\n",
              "      <td>...</td>\n",
              "      <td>...</td>\n",
              "      <td>...</td>\n",
              "      <td>...</td>\n",
              "      <td>...</td>\n",
              "      <td>...</td>\n",
              "      <td>...</td>\n",
              "      <td>...</td>\n",
              "      <td>...</td>\n",
              "      <td>...</td>\n",
              "    </tr>\n",
              "    <tr>\n",
              "      <th>123</th>\n",
              "      <td>MAZOWIECKIE</td>\n",
              "      <td>2015</td>\n",
              "      <td>1.03</td>\n",
              "      <td>0.74</td>\n",
              "      <td>0.61</td>\n",
              "      <td>0.47</td>\n",
              "      <td>2.19</td>\n",
              "      <td>2.58</td>\n",
              "      <td>1.20</td>\n",
              "      <td>1.78</td>\n",
              "      <td>0.84</td>\n",
              "      <td>1.97</td>\n",
              "      <td>1.53</td>\n",
              "      <td>2.76</td>\n",
              "      <td>1.71</td>\n",
              "      <td>5.56</td>\n",
              "      <td>2.34</td>\n",
              "      <td>8.86</td>\n",
              "      <td>0.73</td>\n",
              "      <td>2.09</td>\n",
              "      <td>24.46</td>\n",
              "      <td>3.90</td>\n",
              "    </tr>\n",
              "    <tr>\n",
              "      <th>124</th>\n",
              "      <td>MAZOWIECKIE</td>\n",
              "      <td>2016</td>\n",
              "      <td>1.17</td>\n",
              "      <td>0.64</td>\n",
              "      <td>0.64</td>\n",
              "      <td>0.62</td>\n",
              "      <td>1.62</td>\n",
              "      <td>2.22</td>\n",
              "      <td>1.24</td>\n",
              "      <td>1.77</td>\n",
              "      <td>0.62</td>\n",
              "      <td>1.94</td>\n",
              "      <td>1.16</td>\n",
              "      <td>2.13</td>\n",
              "      <td>1.37</td>\n",
              "      <td>4.04</td>\n",
              "      <td>2.71</td>\n",
              "      <td>5.47</td>\n",
              "      <td>1.19</td>\n",
              "      <td>1.31</td>\n",
              "      <td>7.97</td>\n",
              "      <td>3.18</td>\n",
              "    </tr>\n",
              "    <tr>\n",
              "      <th>125</th>\n",
              "      <td>MAZOWIECKIE</td>\n",
              "      <td>2017</td>\n",
              "      <td>0.86</td>\n",
              "      <td>0.46</td>\n",
              "      <td>0.38</td>\n",
              "      <td>0.60</td>\n",
              "      <td>1.93</td>\n",
              "      <td>2.59</td>\n",
              "      <td>1.28</td>\n",
              "      <td>1.47</td>\n",
              "      <td>1.08</td>\n",
              "      <td>2.60</td>\n",
              "      <td>2.64</td>\n",
              "      <td>1.69</td>\n",
              "      <td>3.32</td>\n",
              "      <td>10.76</td>\n",
              "      <td>4.47</td>\n",
              "      <td>4.84</td>\n",
              "      <td>1.73</td>\n",
              "      <td>3.42</td>\n",
              "      <td>17.53</td>\n",
              "      <td>3.86</td>\n",
              "    </tr>\n",
              "    <tr>\n",
              "      <th>126</th>\n",
              "      <td>MAZOWIECKIE</td>\n",
              "      <td>2018</td>\n",
              "      <td>0.94</td>\n",
              "      <td>0.93</td>\n",
              "      <td>0.43</td>\n",
              "      <td>0.48</td>\n",
              "      <td>2.12</td>\n",
              "      <td>2.64</td>\n",
              "      <td>1.20</td>\n",
              "      <td>1.48</td>\n",
              "      <td>0.70</td>\n",
              "      <td>1.95</td>\n",
              "      <td>0.81</td>\n",
              "      <td>1.76</td>\n",
              "      <td>1.22</td>\n",
              "      <td>4.13</td>\n",
              "      <td>3.66</td>\n",
              "      <td>3.46</td>\n",
              "      <td>1.20</td>\n",
              "      <td>1.28</td>\n",
              "      <td>7.90</td>\n",
              "      <td>5.02</td>\n",
              "    </tr>\n",
              "    <tr>\n",
              "      <th>127</th>\n",
              "      <td>MAZOWIECKIE</td>\n",
              "      <td>2019</td>\n",
              "      <td>1.44</td>\n",
              "      <td>1.52</td>\n",
              "      <td>0.54</td>\n",
              "      <td>0.62</td>\n",
              "      <td>2.37</td>\n",
              "      <td>3.03</td>\n",
              "      <td>1.27</td>\n",
              "      <td>1.66</td>\n",
              "      <td>0.65</td>\n",
              "      <td>2.09</td>\n",
              "      <td>1.46</td>\n",
              "      <td>2.92</td>\n",
              "      <td>3.03</td>\n",
              "      <td>7.31</td>\n",
              "      <td>3.54</td>\n",
              "      <td>5.89</td>\n",
              "      <td>1.29</td>\n",
              "      <td>2.80</td>\n",
              "      <td>8.75</td>\n",
              "      <td>4.37</td>\n",
              "    </tr>\n",
              "  </tbody>\n",
              "</table>\n",
              "<p>128 rows × 22 columns</p>\n",
              "</div>"
            ],
            "text/plain": [
              "     województwo   rok  ...  orzechy włoskie i laskowe za 1 kg  inne owoce za 1 kg\n",
              "0    MAŁOPOLSKIE  2012  ...                              18.29                1.77\n",
              "1    MAŁOPOLSKIE  2013  ...                              14.18                6.10\n",
              "2    MAŁOPOLSKIE  2014  ...                              15.13                2.03\n",
              "3    MAŁOPOLSKIE  2015  ...                              28.43                4.21\n",
              "4    MAŁOPOLSKIE  2016  ...                              15.13                4.03\n",
              "..           ...   ...  ...                                ...                 ...\n",
              "123  MAZOWIECKIE  2015  ...                              24.46                3.90\n",
              "124  MAZOWIECKIE  2016  ...                               7.97                3.18\n",
              "125  MAZOWIECKIE  2017  ...                              17.53                3.86\n",
              "126  MAZOWIECKIE  2018  ...                               7.90                5.02\n",
              "127  MAZOWIECKIE  2019  ...                               8.75                4.37\n",
              "\n",
              "[128 rows x 22 columns]"
            ]
          },
          "metadata": {
            "tags": []
          },
          "execution_count": 21
        }
      ]
    },
    {
      "cell_type": "code",
      "metadata": {
        "id": "XVJ2SR2FM578"
      },
      "source": [
        ""
      ],
      "execution_count": null,
      "outputs": []
    },
    {
      "cell_type": "code",
      "metadata": {
        "id": "cJlw0EtCM9CC"
      },
      "source": [
        "# save data\n",
        "\n",
        "path='' \n",
        "\n",
        "df.to_csv(path+\"ceny_skupu.csv\", index=False)"
      ],
      "execution_count": null,
      "outputs": []
    }
  ]
}