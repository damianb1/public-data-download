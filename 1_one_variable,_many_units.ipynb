{
  "nbformat": 4,
  "nbformat_minor": 0,
  "metadata": {
    "colab": {
      "name": "1. one variable, many units.ipynb",
      "provenance": [],
      "collapsed_sections": []
    },
    "kernelspec": {
      "name": "python3",
      "display_name": "Python 3"
    },
    "language_info": {
      "name": "python"
    }
  },
  "cells": [
    {
      "cell_type": "code",
      "metadata": {
        "id": "26ElLwKY1Lnl"
      },
      "source": [
        "# one variable, multiple territorial units"
      ],
      "execution_count": 1,
      "outputs": []
    },
    {
      "cell_type": "code",
      "metadata": {
        "id": "7vBgO8RY0oyf"
      },
      "source": [
        ""
      ],
      "execution_count": null,
      "outputs": []
    },
    {
      "cell_type": "code",
      "metadata": {
        "id": "lsewrgvv0o31"
      },
      "source": [
        "import pandas as pd\n",
        "import requests"
      ],
      "execution_count": null,
      "outputs": []
    },
    {
      "cell_type": "markdown",
      "metadata": {
        "id": "B6qhH1hgNoUb"
      },
      "source": [
        "## Single request example"
      ]
    },
    {
      "cell_type": "code",
      "metadata": {
        "id": "FodWOA6WMnos"
      },
      "source": [
        "example_url='https://bdl.stat.gov.pl/api/v1/data/by-variable/76037?year=2017&year=2016&unit-level=3&page=0&page-size=100'\n",
        "response = requests.get(example_url, timeout=7)\n",
        "example_data=response.json() # returns a dictionary"
      ],
      "execution_count": null,
      "outputs": []
    },
    {
      "cell_type": "markdown",
      "metadata": {
        "id": "OvYL9BzmNze-"
      },
      "source": [
        "### Examining data structure\n",
        "\n"
      ]
    },
    {
      "cell_type": "code",
      "metadata": {
        "colab": {
          "base_uri": "https://localhost:8080/"
        },
        "id": "D3Y-5_mBMpdT",
        "outputId": "3da6942a-f929-41b8-a2b7-df5677691b5f"
      },
      "source": [
        "example_data.keys()"
      ],
      "execution_count": null,
      "outputs": [
        {
          "output_type": "execute_result",
          "data": {
            "text/plain": [
              "dict_keys(['totalRecords', 'variableId', 'measureUnitId', 'aggregateId', 'lastUpdate', 'results'])"
            ]
          },
          "metadata": {
            "tags": []
          },
          "execution_count": 41
        }
      ]
    },
    {
      "cell_type": "code",
      "metadata": {
        "colab": {
          "base_uri": "https://localhost:8080/"
        },
        "id": "FeSULgnc04Jv",
        "outputId": "5aa11b87-5a09-43a5-cbaa-fcf5e3f5ccf1"
      },
      "source": [
        "print(f\"Total records: {example_data['totalRecords']}\")\n",
        "print(f\"Variable Id: {example_data['variableId']}\")"
      ],
      "execution_count": null,
      "outputs": [
        {
          "output_type": "stream",
          "text": [
            "Total records: 17\n",
            "Variable Id: 76037\n"
          ],
          "name": "stdout"
        }
      ]
    },
    {
      "cell_type": "code",
      "metadata": {
        "colab": {
          "base_uri": "https://localhost:8080/"
        },
        "id": "kijy-uodMs3j",
        "outputId": "80b9b285-5736-42bd-ea22-c81cf078db82"
      },
      "source": [
        "# first two results\n",
        "example_data['results'][:2]"
      ],
      "execution_count": null,
      "outputs": [
        {
          "output_type": "execute_result",
          "data": {
            "text/plain": [
              "[{'id': '011210000000',\n",
              "  'name': 'REGION MAŁOPOLSKIE',\n",
              "  'values': [{'attrId': 1, 'val': 15068865100.02, 'year': '2016'},\n",
              "   {'attrId': 1, 'val': 16279000320.3, 'year': '2017'}]},\n",
              " {'id': '012410000000',\n",
              "  'name': 'REGION ŚLĄSKIE',\n",
              "  'values': [{'attrId': 1, 'val': 20512387686.29, 'year': '2016'},\n",
              "   {'attrId': 1, 'val': 21736363459.19, 'year': '2017'}]}]"
            ]
          },
          "metadata": {
            "tags": []
          },
          "execution_count": 42
        }
      ]
    },
    {
      "cell_type": "code",
      "metadata": {
        "id": "LketuWtsMtvz",
        "colab": {
          "base_uri": "https://localhost:8080/",
          "height": 36
        },
        "outputId": "b53c94d1-1da9-4c63-aa40-6d7ffdde1093"
      },
      "source": [
        "# unit name for the first record:\n",
        "example_data['results'][0]['name']"
      ],
      "execution_count": null,
      "outputs": [
        {
          "output_type": "execute_result",
          "data": {
            "application/vnd.google.colaboratory.intrinsic+json": {
              "type": "string"
            },
            "text/plain": [
              "'REGION MAŁOPOLSKIE'"
            ]
          },
          "metadata": {
            "tags": []
          },
          "execution_count": 43
        }
      ]
    },
    {
      "cell_type": "code",
      "metadata": {
        "id": "sw4UJK7MM2jc",
        "colab": {
          "base_uri": "https://localhost:8080/"
        },
        "outputId": "c085113a-b17a-499a-9b48-6583420b913a"
      },
      "source": [
        "# value for the first unit in first year\n",
        "example_data['results'][0]['values'][0]['val']"
      ],
      "execution_count": null,
      "outputs": [
        {
          "output_type": "execute_result",
          "data": {
            "text/plain": [
              "15068865100.02"
            ]
          },
          "metadata": {
            "tags": []
          },
          "execution_count": 44
        }
      ]
    },
    {
      "cell_type": "markdown",
      "metadata": {
        "id": "DQ_m2ZpBNLZv"
      },
      "source": [
        "## Defining a function for downloading data"
      ]
    },
    {
      "cell_type": "markdown",
      "metadata": {
        "id": "ZvpEfna8OYx_"
      },
      "source": [
        "description\n"
      ]
    },
    {
      "cell_type": "code",
      "metadata": {
        "id": "JI1bsYWVOTRR"
      },
      "source": [
        "def load_data(var_num, unit_level=2, first_year=2015 ,last_year=2020):\n",
        "    # makroregiony - 1, województwa - 2, regiony stat. - 3, podregiony - 4, powiaty - 5, gminy - 6\n",
        "    # 0 - Polska\n",
        "    \n",
        "    page_size=100 # 100 (records) is the maximum page size\n",
        "    first_url=f'https://bdl.stat.gov.pl/api/v1/data/by-variable/{var_num}?year={first_year}&unit-level={unit_level}&page=0&page-size={page_size}'\n",
        "    # loading first page in order to check total number of pages for a given variable\n",
        "    # the number of records/pages stays the same for any number of years\n",
        "  \n",
        "    first_page = requests.get(first_url, timeout=7)\n",
        "    first_page = first_page.json()\n",
        "    #page_size=min(first_page['totalRecords'],100) #useless\n",
        "    last_page_num=0 # if number of records is less than or equal to 100, the first page is the last page\n",
        "\n",
        "    if first_page['totalRecords']>100: # getting the number of pages if there are more than 100 records\n",
        "        last_url=first_page['links']['last'] # the last page url \n",
        "        # example: https://bdl.stat.gov.pl/api/v1/data/by-variable/76037?year=2017&unit-level=5&page=3&page-size=100\n",
        "        last_page_num=last_url[last_url.find(\"page=\")+5:last_url.find(\"&page-size\")] \n",
        "        # string between page= and &page-size is the number of the last page\n",
        "\n",
        "    list_of_records=[] # [(unit, year, value)] # a list returned by this method\n",
        "\n",
        "    # all years at once, less connections/requests\n",
        "    one_url=f'https://bdl.stat.gov.pl/api/v1/data/by-variable/{var_num}?'\n",
        "    for year in range(first_year,last_year+1):\n",
        "        one_url+=f'year={year}&'\n",
        "    one_url+=f'unit-level={unit_level}&page-size={page_size}'\n",
        "    # base url\n",
        "\n",
        "    urls=[] # urls for all pages \n",
        "    for page_num in range(int(last_page_num)+1): \n",
        "        new_url=one_url+f'&page={page_num}' \n",
        "        urls.append(new_url)\n",
        "    for url in urls: # for every page\n",
        "        try:\n",
        "            response = requests.get(url, timeout=7)\n",
        "        except:\n",
        "            print(\"error\")\n",
        "            return\n",
        "        data=response.json() \n",
        "        list_of_records.extend( [(x['name'], val['year'], val['val']) for x in data['results'] for val in x['values']] )\n",
        "        # packing specified variable values into a list of tuples (one tuple for every record)\n",
        "        # list of records for a single page extends the overall list of records\n",
        "\n",
        "    return list_of_records"
      ],
      "execution_count": null,
      "outputs": []
    },
    {
      "cell_type": "code",
      "metadata": {
        "id": "rSICdr9pNVM0"
      },
      "source": [
        ""
      ],
      "execution_count": null,
      "outputs": []
    },
    {
      "cell_type": "markdown",
      "metadata": {
        "id": "Eb1c_PIyNVTa"
      },
      "source": [
        "## Data download example"
      ]
    },
    {
      "cell_type": "code",
      "metadata": {
        "id": "6BN-hdBFoH6a"
      },
      "source": [
        "# Variable:\n",
        "# Total revenue of voivodships budgets\n",
        "# Data accessibility level -> 3 (Region (NUTS 2))\n",
        "# If specified unit level is lower, the values are aggregated\n",
        "\n",
        "# Dochody budżetów województw \n",
        "# Ogółem\n",
        "# id: 6454"
      ],
      "execution_count": null,
      "outputs": []
    },
    {
      "cell_type": "code",
      "metadata": {
        "id": "zIIKtkPLoQUB"
      },
      "source": [
        "dochody_wojewodztw=load_data(6454,2,2015,2018)"
      ],
      "execution_count": null,
      "outputs": []
    },
    {
      "cell_type": "code",
      "metadata": {
        "colab": {
          "base_uri": "https://localhost:8080/"
        },
        "id": "0ToujLJZPcW1",
        "outputId": "588c73a9-6fea-4efa-fd4d-a2e0e4c8db27"
      },
      "source": [
        "dochody_wojewodztw[:5]"
      ],
      "execution_count": null,
      "outputs": [
        {
          "output_type": "execute_result",
          "data": {
            "text/plain": [
              "[('MAŁOPOLSKIE', '2015', 1137039132.7),\n",
              " ('MAŁOPOLSKIE', '2016', 1068354267.52),\n",
              " ('MAŁOPOLSKIE', '2017', 1337669040.22),\n",
              " ('MAŁOPOLSKIE', '2018', 1366539355.62),\n",
              " ('ŚLĄSKIE', '2015', 1763365707.84)]"
            ]
          },
          "metadata": {
            "tags": []
          },
          "execution_count": 14
        }
      ]
    },
    {
      "cell_type": "code",
      "metadata": {
        "id": "lFtJnQ03Tjv9"
      },
      "source": [
        "dochody_df=pd.DataFrame(dochody_wojewodztw, columns=['województwo', 'rok', 'dochód'])"
      ],
      "execution_count": null,
      "outputs": []
    },
    {
      "cell_type": "code",
      "metadata": {
        "colab": {
          "base_uri": "https://localhost:8080/",
          "height": 424
        },
        "id": "ZDRk7a6ATkYc",
        "outputId": "4a75983a-6552-4a07-fa07-3ac84a27d139"
      },
      "source": [
        "#pd.options.display.float_format = '{:.2f}'.format\n",
        "dochody_df"
      ],
      "execution_count": null,
      "outputs": [
        {
          "output_type": "execute_result",
          "data": {
            "text/html": [
              "<div>\n",
              "<style scoped>\n",
              "    .dataframe tbody tr th:only-of-type {\n",
              "        vertical-align: middle;\n",
              "    }\n",
              "\n",
              "    .dataframe tbody tr th {\n",
              "        vertical-align: top;\n",
              "    }\n",
              "\n",
              "    .dataframe thead th {\n",
              "        text-align: right;\n",
              "    }\n",
              "</style>\n",
              "<table border=\"1\" class=\"dataframe\">\n",
              "  <thead>\n",
              "    <tr style=\"text-align: right;\">\n",
              "      <th></th>\n",
              "      <th>województwo</th>\n",
              "      <th>rok</th>\n",
              "      <th>dochód</th>\n",
              "    </tr>\n",
              "  </thead>\n",
              "  <tbody>\n",
              "    <tr>\n",
              "      <th>0</th>\n",
              "      <td>MAŁOPOLSKIE</td>\n",
              "      <td>2015</td>\n",
              "      <td>1137039132.70</td>\n",
              "    </tr>\n",
              "    <tr>\n",
              "      <th>1</th>\n",
              "      <td>MAŁOPOLSKIE</td>\n",
              "      <td>2016</td>\n",
              "      <td>1068354267.52</td>\n",
              "    </tr>\n",
              "    <tr>\n",
              "      <th>2</th>\n",
              "      <td>MAŁOPOLSKIE</td>\n",
              "      <td>2017</td>\n",
              "      <td>1337669040.22</td>\n",
              "    </tr>\n",
              "    <tr>\n",
              "      <th>3</th>\n",
              "      <td>MAŁOPOLSKIE</td>\n",
              "      <td>2018</td>\n",
              "      <td>1366539355.62</td>\n",
              "    </tr>\n",
              "    <tr>\n",
              "      <th>4</th>\n",
              "      <td>ŚLĄSKIE</td>\n",
              "      <td>2015</td>\n",
              "      <td>1763365707.84</td>\n",
              "    </tr>\n",
              "    <tr>\n",
              "      <th>...</th>\n",
              "      <td>...</td>\n",
              "      <td>...</td>\n",
              "      <td>...</td>\n",
              "    </tr>\n",
              "    <tr>\n",
              "      <th>59</th>\n",
              "      <td>PODLASKIE</td>\n",
              "      <td>2018</td>\n",
              "      <td>707145494.13</td>\n",
              "    </tr>\n",
              "    <tr>\n",
              "      <th>60</th>\n",
              "      <td>MAZOWIECKIE</td>\n",
              "      <td>2015</td>\n",
              "      <td>2768680366.53</td>\n",
              "    </tr>\n",
              "    <tr>\n",
              "      <th>61</th>\n",
              "      <td>MAZOWIECKIE</td>\n",
              "      <td>2016</td>\n",
              "      <td>2302606116.47</td>\n",
              "    </tr>\n",
              "    <tr>\n",
              "      <th>62</th>\n",
              "      <td>MAZOWIECKIE</td>\n",
              "      <td>2017</td>\n",
              "      <td>2550122963.49</td>\n",
              "    </tr>\n",
              "    <tr>\n",
              "      <th>63</th>\n",
              "      <td>MAZOWIECKIE</td>\n",
              "      <td>2018</td>\n",
              "      <td>2964663665.80</td>\n",
              "    </tr>\n",
              "  </tbody>\n",
              "</table>\n",
              "<p>64 rows × 3 columns</p>\n",
              "</div>"
            ],
            "text/plain": [
              "    województwo   rok        dochód\n",
              "0   MAŁOPOLSKIE  2015 1137039132.70\n",
              "1   MAŁOPOLSKIE  2016 1068354267.52\n",
              "2   MAŁOPOLSKIE  2017 1337669040.22\n",
              "3   MAŁOPOLSKIE  2018 1366539355.62\n",
              "4       ŚLĄSKIE  2015 1763365707.84\n",
              "..          ...   ...           ...\n",
              "59    PODLASKIE  2018  707145494.13\n",
              "60  MAZOWIECKIE  2015 2768680366.53\n",
              "61  MAZOWIECKIE  2016 2302606116.47\n",
              "62  MAZOWIECKIE  2017 2550122963.49\n",
              "63  MAZOWIECKIE  2018 2964663665.80\n",
              "\n",
              "[64 rows x 3 columns]"
            ]
          },
          "metadata": {
            "tags": []
          },
          "execution_count": 19
        }
      ]
    },
    {
      "cell_type": "markdown",
      "metadata": {
        "id": "1zgt9fu5NZDw"
      },
      "source": [
        "## Saving data"
      ]
    },
    {
      "cell_type": "code",
      "metadata": {
        "id": "FgUyEhAzABUM"
      },
      "source": [
        "path='' # specify custom path\n",
        "# path='drive/MyDrive/'"
      ],
      "execution_count": null,
      "outputs": []
    },
    {
      "cell_type": "code",
      "metadata": {
        "id": "ju1hVShvVCB-"
      },
      "source": [
        "# saving data to a csv file\n",
        "dochody_df.to_csv(path+\"dochody_budżetów_województw.csv\", index=False)\n",
        "#dochody_df.to_csv(path+\"dochody_budżetów_województw.csv\", index=False, encoding='utf-8')"
      ],
      "execution_count": null,
      "outputs": []
    },
    {
      "cell_type": "code",
      "metadata": {
        "id": "x1sFhHxiHMxA"
      },
      "source": [
        ""
      ],
      "execution_count": null,
      "outputs": []
    }
  ]
}